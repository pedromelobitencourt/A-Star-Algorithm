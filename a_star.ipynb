{
 "cells": [
  {
   "cell_type": "markdown",
   "metadata": {},
   "source": [
    "We are going to implement A* algorithm\n",
    "\n",
    "It's a search algorithm that is a variation of Dijkstra's\n",
    "\n",
    "It includes a heuristic value to each one of the nodes that represents the estimate cost to reach the goal\n",
    "\n",
    "So, we want to reach the goal city, that is, in this example, Bucharest city from the source city, which is Arad"
   ]
  },
  {
   "cell_type": "code",
   "execution_count": 123,
   "metadata": {},
   "outputs": [],
   "source": [
    "from collections import defaultdict\n",
    "from heapq import heapify, heappush, heappop \n"
   ]
  },
  {
   "cell_type": "markdown",
   "metadata": {},
   "source": [
    "Read the undirected graph"
   ]
  },
  {
   "cell_type": "code",
   "execution_count": 28,
   "metadata": {},
   "outputs": [],
   "source": [
    "gr = defaultdict(list)\n",
    "\n",
    "with open('Grafo.txt', 'r') as file:\n",
    "    contents = file.readlines()\n",
    "    for line in contents: # read the edges (u, v, w)\n",
    "        u, v, w = line.strip().split(';')\n",
    "        gr[u].append((v, int(w)))\n",
    "        gr[v].append((u, int(w)))\n"
   ]
  },
  {
   "cell_type": "markdown",
   "metadata": {},
   "source": [
    "Read the nodes heuristics\n",
    "\n",
    "The heuristic taken was the straight line distance between the node and the goal node (Bucharest)"
   ]
  },
  {
   "cell_type": "code",
   "execution_count": 18,
   "metadata": {},
   "outputs": [],
   "source": [
    "heuristics = defaultdict(list)\n",
    "\n",
    "with open('Heuristica.txt', 'r') as file:\n",
    "    contents = file.readlines()\n",
    "    for content in contents:\n",
    "        u, h = content.split(';') # the city and its heuristic\n",
    "        heuristics[u] = int(h)"
   ]
  },
  {
   "cell_type": "code",
   "execution_count": 173,
   "metadata": {},
   "outputs": [],
   "source": [
    "def a_star(src, goal):\n",
    "      \n",
    "    # Creating min heap \n",
    "    q = []\n",
    "    heapify(q)\n",
    "    heappush(q, (0, src))\n",
    "    \n",
    "    dist = {}\n",
    "    prev = {} # parent list to recover the found path\n",
    "\n",
    "    for node in gr:\n",
    "        dist[node] = 999999999999 # 'infinite'\n",
    "    dist[src] = 0\n",
    "    prev[src] = -1\n",
    "\n",
    "    while(len(q) != 0):\n",
    "        w, u = heappop(q)\n",
    "\n",
    "        # removing its heuristics since we included it when added to the heap\n",
    "        if u != src:\n",
    "            w -= heuristics[u]\n",
    "\n",
    "        # we reached the goal city\n",
    "        if u == goal:\n",
    "            return dist[u], prev\n",
    "\n",
    "        print('########', u, w)\n",
    "\n",
    "        for nbr in gr[u]:\n",
    "            v, w_nbr = nbr\n",
    "            weight = w_nbr + w + heuristics[v] # edge cost + current path cost + heuristic of current node\n",
    "            \n",
    "            print('chegou em:', v, weight)\n",
    "\n",
    "            if(dist[v] > weight):\n",
    "                prev[v] = u\n",
    "                dist[v] = weight\n",
    "                heappush(q, (weight, v))\n",
    "                print('sa em:', v, weight)\n",
    "            \n",
    "        print('\\n')\n",
    "    return dist"
   ]
  },
  {
   "cell_type": "markdown",
   "metadata": {},
   "source": [
    "After implementing it, let's get the best path and its cost"
   ]
  },
  {
   "cell_type": "code",
   "execution_count": 174,
   "metadata": {},
   "outputs": [
    {
     "name": "stdout",
     "output_type": "stream",
     "text": [
      "######## Arad 0\n",
      "chegou em: Zerind 449\n",
      "sa em: Zerind 449\n",
      "chegou em: Sibiu 393\n",
      "sa em: Sibiu 393\n",
      "chegou em: Timisoara 447\n",
      "sa em: Timisoara 447\n",
      "\n",
      "\n",
      "######## Sibiu 140\n",
      "chegou em: Oradea 671\n",
      "sa em: Oradea 671\n",
      "chegou em: Arad 646\n",
      "chegou em: Rimnicu Vilcea 413\n",
      "sa em: Rimnicu Vilcea 413\n",
      "chegou em: Fagaras 415\n",
      "sa em: Fagaras 415\n",
      "\n",
      "\n",
      "######## Rimnicu Vilcea 220\n",
      "chegou em: Craiova 526\n",
      "sa em: Craiova 526\n",
      "chegou em: Pitesti 417\n",
      "sa em: Pitesti 417\n",
      "chegou em: Sibiu 553\n",
      "\n",
      "\n",
      "######## Fagaras 239\n",
      "chegou em: Sibiu 591\n",
      "chegou em: Bucareste 450\n",
      "sa em: Bucareste 450\n",
      "\n",
      "\n",
      "######## Pitesti 317\n",
      "chegou em: Craiova 615\n",
      "chegou em: Rimnicu Vilcea 607\n",
      "chegou em: Bucareste 418\n",
      "sa em: Bucareste 418\n",
      "\n",
      "\n",
      "the total cost to reach Bucareste from Arad is 418\n",
      "Arad -> Sibiu -> Rimnicu Vilcea -> Pitesti -> Bucareste\n"
     ]
    }
   ],
   "source": [
    "src = 'Arad'\n",
    "goal = 'Bucareste'\n",
    "\n",
    "dis_to_goal, previous = a_star(src, goal)\n",
    "print(f'the total cost to reach {goal} from {src} is {dis_to_goal}')\n",
    "\n",
    "path = [goal]\n",
    "u = goal\n",
    "while u != src:\n",
    "    path.append(previous[u])\n",
    "    u = previous[u]\n",
    "\n",
    "path = path[::-1] # reverse the list\n",
    "size = len(path)\n",
    "for i in range(size):\n",
    "    if i == size-1:\n",
    "        print(path[i])\n",
    "    else:\n",
    "        print(path[i], '-> ', end='')\n"
   ]
  }
 ],
 "metadata": {
  "kernelspec": {
   "display_name": "Python 3",
   "language": "python",
   "name": "python3"
  },
  "language_info": {
   "codemirror_mode": {
    "name": "ipython",
    "version": 3
   },
   "file_extension": ".py",
   "mimetype": "text/x-python",
   "name": "python",
   "nbconvert_exporter": "python",
   "pygments_lexer": "ipython3",
   "version": "3.11.0"
  }
 },
 "nbformat": 4,
 "nbformat_minor": 2
}
